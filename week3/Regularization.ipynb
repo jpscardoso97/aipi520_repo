{
 "cells": [
  {
   "cell_type": "markdown",
   "metadata": {},
   "source": [
    "<a href='https://ai.meng.duke.edu'> = <img align=\"left\" style=\"padding-top:10px;\" src=https://storage.googleapis.com/aipi_datasets/Duke-AIPI-Logo.png>"
   ]
  },
  {
   "cell_type": "markdown",
   "metadata": {},
   "source": [
    "# Regularization"
   ]
  },
  {
   "cell_type": "code",
   "execution_count": 2,
   "metadata": {},
   "outputs": [],
   "source": [
    "import numpy as np\n",
    "import pandas as pd\n",
    "import matplotlib.pyplot as plt\n",
    "from sklearn.model_selection import train_test_split\n",
    "from sklearn.metrics import mean_absolute_error, mean_squared_error\n",
    "from sklearn.linear_model import LinearRegression, Lasso, Ridge\n",
    "from sklearn.preprocessing import PolynomialFeatures, StandardScaler\n",
    "from sklearn.model_selection import KFold\n",
    "\n",
    "import warnings\n",
    "warnings.filterwarnings(\"ignore\")"
   ]
  },
  {
   "cell_type": "code",
   "execution_count": 2,
   "metadata": {},
   "outputs": [],
   "source": [
    "# Run this before any other code cell\n",
    "# This downloads the csv data files into the same directory where you have saved this notebook\n",
    "\n",
    "# import urllib.request\n",
    "# from pathlib import Path\n",
    "# import os\n",
    "# path = Path()\n",
    "\n",
    "# # Dictionary of file names and download links\n",
    "# files = {'Auto.csv':'https://storage.googleapis.com/aipi_datasets/Auto.csv'}\n",
    "\n",
    "# # Download each file\n",
    "# for key,value in files.items():\n",
    "#     filename = path/key\n",
    "#     url = value\n",
    "#     # If the file does not already exist in the directory, download it\n",
    "#     if not os.path.exists(filename):\n",
    "#         urllib.request.urlretrieve(url,filename)"
   ]
  },
  {
   "cell_type": "code",
   "execution_count": 3,
   "metadata": {},
   "outputs": [
    {
     "data": {
      "text/html": [
       "<div>\n",
       "<style scoped>\n",
       "    .dataframe tbody tr th:only-of-type {\n",
       "        vertical-align: middle;\n",
       "    }\n",
       "\n",
       "    .dataframe tbody tr th {\n",
       "        vertical-align: top;\n",
       "    }\n",
       "\n",
       "    .dataframe thead th {\n",
       "        text-align: right;\n",
       "    }\n",
       "</style>\n",
       "<table border=\"1\" class=\"dataframe\">\n",
       "  <thead>\n",
       "    <tr style=\"text-align: right;\">\n",
       "      <th></th>\n",
       "      <th>mpg</th>\n",
       "      <th>cylinders</th>\n",
       "      <th>displacement</th>\n",
       "      <th>horsepower</th>\n",
       "      <th>weight</th>\n",
       "      <th>acceleration</th>\n",
       "      <th>year</th>\n",
       "      <th>origin</th>\n",
       "      <th>name</th>\n",
       "    </tr>\n",
       "  </thead>\n",
       "  <tbody>\n",
       "    <tr>\n",
       "      <th>0</th>\n",
       "      <td>18.0</td>\n",
       "      <td>8</td>\n",
       "      <td>307.0</td>\n",
       "      <td>130</td>\n",
       "      <td>3504</td>\n",
       "      <td>12.0</td>\n",
       "      <td>70</td>\n",
       "      <td>1</td>\n",
       "      <td>chevrolet chevelle malibu</td>\n",
       "    </tr>\n",
       "    <tr>\n",
       "      <th>1</th>\n",
       "      <td>15.0</td>\n",
       "      <td>8</td>\n",
       "      <td>350.0</td>\n",
       "      <td>165</td>\n",
       "      <td>3693</td>\n",
       "      <td>11.5</td>\n",
       "      <td>70</td>\n",
       "      <td>1</td>\n",
       "      <td>buick skylark 320</td>\n",
       "    </tr>\n",
       "    <tr>\n",
       "      <th>2</th>\n",
       "      <td>18.0</td>\n",
       "      <td>8</td>\n",
       "      <td>318.0</td>\n",
       "      <td>150</td>\n",
       "      <td>3436</td>\n",
       "      <td>11.0</td>\n",
       "      <td>70</td>\n",
       "      <td>1</td>\n",
       "      <td>plymouth satellite</td>\n",
       "    </tr>\n",
       "    <tr>\n",
       "      <th>3</th>\n",
       "      <td>16.0</td>\n",
       "      <td>8</td>\n",
       "      <td>304.0</td>\n",
       "      <td>150</td>\n",
       "      <td>3433</td>\n",
       "      <td>12.0</td>\n",
       "      <td>70</td>\n",
       "      <td>1</td>\n",
       "      <td>amc rebel sst</td>\n",
       "    </tr>\n",
       "    <tr>\n",
       "      <th>4</th>\n",
       "      <td>17.0</td>\n",
       "      <td>8</td>\n",
       "      <td>302.0</td>\n",
       "      <td>140</td>\n",
       "      <td>3449</td>\n",
       "      <td>10.5</td>\n",
       "      <td>70</td>\n",
       "      <td>1</td>\n",
       "      <td>ford torino</td>\n",
       "    </tr>\n",
       "  </tbody>\n",
       "</table>\n",
       "</div>"
      ],
      "text/plain": [
       "    mpg  cylinders  displacement horsepower  weight  acceleration  year  \\\n",
       "0  18.0          8         307.0        130    3504          12.0    70   \n",
       "1  15.0          8         350.0        165    3693          11.5    70   \n",
       "2  18.0          8         318.0        150    3436          11.0    70   \n",
       "3  16.0          8         304.0        150    3433          12.0    70   \n",
       "4  17.0          8         302.0        140    3449          10.5    70   \n",
       "\n",
       "   origin                       name  \n",
       "0       1  chevrolet chevelle malibu  \n",
       "1       1          buick skylark 320  \n",
       "2       1         plymouth satellite  \n",
       "3       1              amc rebel sst  \n",
       "4       1                ford torino  "
      ]
     },
     "execution_count": 3,
     "metadata": {},
     "output_type": "execute_result"
    }
   ],
   "source": [
    "def load_data(filename):\n",
    "    # Read in data\n",
    "    data = pd.read_csv(filename)\n",
    "    # Remove rows with missing values\n",
    "    data = data[data['horsepower'] != '?'].copy()\n",
    "    return data\n",
    "\n",
    "data = load_data('Auto.csv')\n",
    "data.head()"
   ]
  },
  {
   "cell_type": "markdown",
   "metadata": {},
   "source": [
    "## LASSO Regression\n",
    "Let's use LASSO Regression to add regularization and see what impact it has on the features included in the model.  First we will run a standard linear regression to get a baseline."
   ]
  },
  {
   "cell_type": "code",
   "execution_count": 4,
   "metadata": {},
   "outputs": [
    {
     "name": "stdout",
     "output_type": "stream",
     "text": [
      "LinearRegression()\n",
      "MSE train: 11.539, test: 11.953\n"
     ]
    }
   ],
   "source": [
    "def prep_data_allfeats(data,pct):\n",
    "    # Define the features and response (X and y)\n",
    "    X = data[['cylinders','displacement','horsepower','weight','acceleration','year']].copy().astype(int)\n",
    "    y = data['mpg'].copy().astype(float)\n",
    "\n",
    "    # Split into training and test sets\n",
    "    X_train,X_test,y_train,y_test = train_test_split(X, y, random_state=0,test_size=pct)\n",
    "    return X_train,X_test,y_train,y_test\n",
    "\n",
    "def run_lr(X_train,y_train,X_test):\n",
    "    # Let's use a Simple Linear Regression model\n",
    "    model = LinearRegression()\n",
    "\n",
    "    # Train the model on the training data\n",
    "    model.fit(X_train,y_train)\n",
    "\n",
    "    # Get the predictions\n",
    "    train_preds = model.predict(X_train)\n",
    "    test_preds = model.predict(X_test)\n",
    "\n",
    "    return train_preds, test_preds, model\n",
    "\n",
    "\n",
    "def test_model(model, X_test, y_test,transform=None):\n",
    "    # Compute the MSE for a model\n",
    "    if transform is not None:\n",
    "        X_test = transform.transform(X_test)\n",
    "    preds = model.predict(X_test)\n",
    "    mse = 1/len(y_test)*np.sum((preds-y_test)**2)\n",
    "    return mse\n",
    "\n",
    "# Split our data and run the model\n",
    "X_train,X_test,y_train,y_test = prep_data_allfeats(data,pct=0.2)\n",
    "train_preds, test_preds, model = run_lr(X_train,y_train,X_test)\n",
    "\n",
    "# Calculate MSE\n",
    "train_mse = test_model(model,X_train,y_train)\n",
    "test_mse = test_model(model,X_test,y_test)\n",
    "print(model)\n",
    "print('MSE train: {:.3f}, test: {:.3f}'.format(train_mse,test_mse))"
   ]
  },
  {
   "cell_type": "markdown",
   "metadata": {},
   "source": [
    "Now let's try a LASSO model.  First we need to scale our data"
   ]
  },
  {
   "cell_type": "code",
   "execution_count": 5,
   "metadata": {},
   "outputs": [
    {
     "name": "stdout",
     "output_type": "stream",
     "text": [
      "MSE on the test set is 13.124\n",
      "y = 23.482 + -0.000*cylinders + -0.000*displacement + -0.094*horsepower + -4.790*weight + 0.000*acceleration + 1.951*year\n"
     ]
    },
    {
     "data": {
      "image/png": "[encoded data removed]",
      "text/plain": [
       "<Figure size 640x480 with 1 Axes>"
      ]
     },
     "metadata": {},
     "output_type": "display_data"
    }
   ],
   "source": [
    "def train_lasso(X_train,y_train,alpha=1.):\n",
    "    # First we scale our data - remember, only use the training data to fit the scaler\n",
    "    scaler = StandardScaler()\n",
    "    X_train_scaled = scaler.fit_transform(X_train)\n",
    "\n",
    "    # Run a LASSO model\n",
    "    lasso_model = Lasso(alpha=alpha)\n",
    "    lasso_model.fit(X_train_scaled,y_train)\n",
    "    return scaler,lasso_model\n",
    "    \n",
    "scaler,model = train_lasso(X_train,y_train)\n",
    "test_mse = test_model(model, X_test, y_test,transform=scaler)\n",
    "print('MSE on the test set is {:.3f}'.format(test_mse))\n",
    "\n",
    "# Display the equation for the LASSO model\n",
    "coef = model.coef_\n",
    "intercept = model.intercept_\n",
    "equation = 'y = {:.3f} + '.format(intercept) + ' + '.join(['{:.3f}*{}'.format(coef,var) for coef,var in zip(coef,X_train.columns)])\n",
    "print(equation)\n",
    "\n",
    "# Plot the coefficients\n",
    "plt.barh(X_train.columns,coef)\n",
    "plt.axvline(x=0, color='.5')\n",
    "plt.show()"
   ]
  },
  {
   "cell_type": "markdown",
   "metadata": {},
   "source": [
    "As we can see above, our LASSO model at lambda/alpha=1.0 zeroed out several of our model coefficients, leaving only weight, horsepower, and year in our model."
   ]
  },
  {
   "cell_type": "markdown",
   "metadata": {},
   "source": [
    "## Ridge Regression"
   ]
  },
  {
   "cell_type": "code",
   "execution_count": 6,
   "metadata": {},
   "outputs": [
    {
     "name": "stdout",
     "output_type": "stream",
     "text": [
      "MSE on the test set is 11.917\n",
      "y = 23.482 + -0.403*cylinders + 0.567*displacement + 0.095*horsepower + -5.728*weight + 0.380*acceleration + 2.692*year\n"
     ]
    },
    {
     "data": {
      "image/png": "[encoded data removed]",
      "text/plain": [
       "<Figure size 640x480 with 1 Axes>"
      ]
     },
     "metadata": {},
     "output_type": "display_data"
    }
   ],
   "source": [
    "def train_ridge(X_train,y_train,alpha=1.0):\n",
    "    scaler = StandardScaler()\n",
    "    X_train_scaled = scaler.fit_transform(X_train)\n",
    "\n",
    "    # Run a Ridge model using the default lambda (alpha)\n",
    "    ridge_model = Ridge(alpha=alpha)\n",
    "    ridge_model.fit(X_train_scaled,y_train)\n",
    "    \n",
    "    return scaler, ridge_model\n",
    "\n",
    "scaler,model = train_ridge(X_train,y_train)\n",
    "test_mse = test_model(model, X_test, y_test, transform=scaler)\n",
    "print('MSE on the test set is {:.3f}'.format(test_mse))\n",
    "\n",
    "# Display the equation for the LASSO model\n",
    "coef = model.coef_\n",
    "intercept = model.intercept_\n",
    "equation = 'y = {:.3f} + '.format(intercept) + ' + '.join(['{:.3f}*{}'.format(coef,var) for coef,var in zip(coef,X_train.columns)])\n",
    "print(equation)\n",
    "\n",
    "# Plot the coefficients\n",
    "plt.barh(X_train.columns,coef)\n",
    "plt.axvline(x=0, color='.5')\n",
    "plt.show()"
   ]
  },
  {
   "cell_type": "code",
   "execution_count": null,
   "metadata": {},
   "outputs": [],
   "source": []
  }
 ],
 "metadata": {
  "kernelspec": {
   "display_name": "Python 3.9.7 ('aipi540')",
   "language": "python",
   "name": "python3"
  },
  "language_info": {
   "codemirror_mode": {
    "name": "ipython",
    "version": 3
   },
   "file_extension": ".py",
   "mimetype": "text/x-python",
   "name": "python",
   "nbconvert_exporter": "python",
   "pygments_lexer": "ipython3",
   "version": "3.11.4"
  },
  "vscode": {
   "interpreter": {
    "hash": "31cc86d7aac4849c7546154c9b56d60163d5e8a1d83593a5eed18774fbf4fd37"
   }
  }
 },
 "nbformat": 4,
 "nbformat_minor": 4
}
